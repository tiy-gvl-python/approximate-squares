{
 "cells": [
  {
   "cell_type": "markdown",
   "metadata": {},
   "source": [
    "#Approximate Squares"
   ]
  },
  {
   "cell_type": "code",
   "execution_count": 19,
   "metadata": {
    "collapsed": false
   },
   "outputs": [
    {
     "name": "stdout",
     "output_type": "stream",
     "text": [
      "Enter a positive number: 9\n",
      "Guess the square root of the number: 2\n",
      "3.0\n"
     ]
    }
   ],
   "source": [
    "import math\n",
    "\n",
    "user_input = int(input(\"Enter a positive number: \"))\n",
    "user_guess = int(input(\"Guess the square root of the number: \"))\n",
    "\n",
    "\n",
    "for x in range(1000):\n",
    "    input_guess = user_input / user_guess\n",
    "    ratio = (user_guess + input_guess)/ 2\n",
    "    user_guess = ratio\n",
    "try:\n",
    "    assert ratio == math.sqrt(user_input)\n",
    "    print(ratio)\n",
    "    \n",
    "except:\n",
    "    print(\"This is not right\")\n",
    "    percentage = ratio/math.sqrt(user_input)*100\n",
    "    print(\"error percentage {}\".format(percentage))\n",
    "    \n",
    "    \n",
    "\n",
    "\n",
    "\n",
    "        \n",
    "\n",
    "\n"
   ]
  },
  {
   "cell_type": "code",
   "execution_count": null,
   "metadata": {
    "collapsed": true
   },
   "outputs": [],
   "source": []
  }
 ],
 "metadata": {
  "kernelspec": {
   "display_name": "Python 3",
   "language": "python",
   "name": "python3"
  },
  "language_info": {
   "codemirror_mode": {
    "name": "ipython",
    "version": 3
   },
   "file_extension": ".py",
   "mimetype": "text/x-python",
   "name": "python",
   "nbconvert_exporter": "python",
   "pygments_lexer": "ipython3",
   "version": "3.4.3"
  }
 },
 "nbformat": 4,
 "nbformat_minor": 0
}
